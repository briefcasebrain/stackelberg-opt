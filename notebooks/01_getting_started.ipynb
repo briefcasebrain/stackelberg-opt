{
 "cells": [
  {
   "cell_type": "markdown",
   "metadata": {},
   "source": [
    "# Getting Started with stackelberg-opt\n",
    "\n",
    "This notebook introduces the basic concepts and usage of the stackelberg-opt library for Stackelberg game-theoretic optimization of compound AI systems.\n",
    "\n",
    "## Table of Contents\n",
    "1. [Installation](#installation)\n",
    "2. [Basic Concepts](#basic-concepts)\n",
    "3. [Creating Modules](#creating-modules)\n",
    "4. [Running Optimization](#running-optimization)\n",
    "5. [Analyzing Results](#analyzing-results)"
   ]
  },
  {
   "cell_type": "markdown",
   "metadata": {},
   "source": [
    "## 1. Installation <a name=\"installation\"></a>\n",
    "\n",
    "First, install the stackelberg-opt library and its dependencies:"
   ]
  },
  {
   "cell_type": "code",
   "execution_count": null,
   "metadata": {},
   "outputs": [],
   "source": [
    "# Install from the local directory (for development)\n",
    "!pip install -e ..\n",
    "\n",
    "# Or install specific dependencies if needed\n",
    "# !pip install numpy scipy litellm networkx matplotlib"
   ]
  },
  {
   "cell_type": "markdown",
   "metadata": {},
   "source": [
    "## 2. Basic Concepts <a name=\"basic-concepts\"></a>\n",
    "\n",
    "stackelberg-opt implements a Stackelberg game-theoretic approach to optimizing compound AI systems:\n",
    "\n",
    "- **Leader modules**: Make decisions first and influence the system\n",
    "- **Follower modules**: React to leader decisions\n",
    "- **Independent modules**: Operate without strategic dependencies\n",
    "\n",
    "The optimization process uses evolutionary algorithms with bilevel optimization to find equilibrium solutions."
   ]
  },
  {
   "cell_type": "code",
   "execution_count": null,
   "metadata": {},
   "outputs": [],
   "source": [
    "# Import core components\n",
    "from stackelberg_opt import (\n",
    "    Module, \n",
    "    ModuleType, \n",
    "    SystemCandidate,\n",
    "    StackelbergOptimizer,\n",
    "    OptimizerConfig\n",
    ")\n",
    "\n",
    "# Import visualization utilities\n",
    "from stackelberg_opt.utils import OptimizationVisualizer\n",
    "\n",
    "import asyncio\n",
    "import numpy as np\n",
    "from typing import Dict, Tuple\n",
    "\n",
    "print(\"stackelberg-opt imported successfully!\")"
   ]
  },
  {
   "cell_type": "markdown",
   "metadata": {},
   "source": [
    "## 3. Creating Modules <a name=\"creating-modules\"></a>\n",
    "\n",
    "Let's create a simple text summarization system with leader-follower dynamics:"
   ]
  },
  {
   "cell_type": "code",
   "execution_count": null,
   "metadata": {},
   "outputs": [],
   "source": [
    "# Define system modules\n",
    "modules = {\n",
    "    # Leader: Extracts key information\n",
    "    \"key_extractor\": Module(\n",
    "        name=\"key_extractor\",\n",
    "        prompt=\"\"\"Extract the 3 most important points from this text.\n",
    "Text: {input_text}\n",
    "\n",
    "Output the key points as a numbered list:\"\"\",\n",
    "        module_type=ModuleType.LEADER,\n",
    "        dependencies=[]\n",
    "    ),\n",
    "    \n",
    "    # Follower: Creates summary based on key points\n",
    "    \"summarizer\": Module(\n",
    "        name=\"summarizer\",\n",
    "        prompt=\"\"\"Based on these key points, write a concise summary.\n",
    "Key points:\n",
    "{key_points}\n",
    "\n",
    "Summary:\"\"\",\n",
    "        module_type=ModuleType.FOLLOWER,\n",
    "        dependencies=[\"key_extractor\"]\n",
    "    ),\n",
    "    \n",
    "    # Independent: Adds a title\n",
    "    \"title_generator\": Module(\n",
    "        name=\"title_generator\",\n",
    "        prompt=\"\"\"Generate a short, catchy title for this summary.\n",
    "Summary: {summary}\n",
    "\n",
    "Title:\"\"\",\n",
    "        module_type=ModuleType.INDEPENDENT,\n",
    "        dependencies=[\"summarizer\"]\n",
    "    )\n",
    "}\n",
    "\n",
    "print(\"Created {} modules:\".format(len(modules)))\n",
    "for name, module in modules.items():\n",
    "    print(f\"  - {name} ({module.module_type.value})\")"
   ]
  },
  {
   "cell_type": "markdown",
   "metadata": {},
   "source": [
    "## 4. Running Optimization <a name=\"running-optimization\"></a>\n",
    "\n",
    "Now let's create a task executor and run the optimization:"
   ]
  },
  {
   "cell_type": "code",
   "execution_count": null,
   "metadata": {},
   "outputs": [],
   "source": [
    "# Create a simple task executor (mock implementation for demo)\n",
    "async def mock_task_executor(modules: Dict[str, Module], input_text: str) -> Tuple[str, any]:\n",
    "    \"\"\"Mock task executor that simulates module execution.\"\"\"\n",
    "    from stackelberg_opt import ExecutionTrace\n",
    "    import time\n",
    "    import random\n",
    "    \n",
    "    trace = ExecutionTrace()\n",
    "    trace.execution_order = []\n",
    "    trace.module_outputs = {}\n",
    "    trace.module_timings = {}\n",
    "    trace.intermediate_scores = {}\n",
    "    \n",
    "    # Simulate execution\n",
    "    start_time = time.time()\n",
    "    \n",
    "    # Execute key_extractor\n",
    "    key_points = \"1. Main idea\\n2. Supporting point\\n3. Conclusion\"\n",
    "    trace.execution_order.append(\"key_extractor\")\n",
    "    trace.module_outputs[\"key_extractor\"] = key_points\n",
    "    trace.module_timings[\"key_extractor\"] = 0.1\n",
    "    trace.intermediate_scores[\"key_extractor\"] = 0.7 + random.random() * 0.3\n",
    "    \n",
    "    # Execute summarizer\n",
    "    summary = \"This text discusses the main idea with supporting evidence.\"\n",
    "    trace.execution_order.append(\"summarizer\")\n",
    "    trace.module_outputs[\"summarizer\"] = summary\n",
    "    trace.module_timings[\"summarizer\"] = 0.15\n",
    "    trace.intermediate_scores[\"summarizer\"] = 0.6 + random.random() * 0.3\n",
    "    \n",
    "    # Execute title_generator\n",
    "    title = \"Key Insights and Analysis\"\n",
    "    trace.execution_order.append(\"title_generator\")\n",
    "    trace.module_outputs[\"title_generator\"] = title\n",
    "    trace.module_timings[\"title_generator\"] = 0.05\n",
    "    trace.intermediate_scores[\"title_generator\"] = 0.8 + random.random() * 0.2\n",
    "    \n",
    "    trace.success = True\n",
    "    trace.final_score = np.mean(list(trace.intermediate_scores.values()))\n",
    "    \n",
    "    final_output = f\"{title}\\n\\n{summary}\"\n",
    "    return final_output, trace\n",
    "\n",
    "# Create training data\n",
    "train_data = [\n",
    "    (\"The quick brown fox jumps over the lazy dog. This pangram contains all letters.\",\n",
    "     \"Complete Alphabet\\n\\nThis sentence demonstrates all 26 letters.\"),\n",
    "    (\"Machine learning transforms data into insights through pattern recognition.\",\n",
    "     \"ML Insights\\n\\nML converts data to knowledge via patterns.\"),\n",
    "    (\"Climate change requires immediate global action to prevent catastrophe.\",\n",
    "     \"Climate Crisis\\n\\nUrgent worldwide response needed for climate.\"),\n",
    "]\n",
    "\n",
    "print(f\"Created {len(train_data)} training examples\")"
   ]
  },
  {
   "cell_type": "code",
   "execution_count": null,
   "metadata": {},
   "outputs": [],
   "source": [
    "# Configure the optimizer\n",
    "config = OptimizerConfig(\n",
    "    budget=20,  # Small budget for demo\n",
    "    population_size=5,\n",
    "    mutation_rate=0.7,\n",
    "    crossover_rate=0.3,\n",
    "    performance_weight=0.5,\n",
    "    equilibrium_weight=0.3,\n",
    "    stability_weight=0.2,\n",
    "    enable_visualization=True,\n",
    "    verbose=True\n",
    ")\n",
    "\n",
    "print(\"Optimizer configuration:\")\n",
    "print(f\"  Budget: {config.budget}\")\n",
    "print(f\"  Population size: {config.population_size}\")\n",
    "print(f\"  Weights: performance={config.performance_weight}, \"\n",
    "      f\"equilibrium={config.equilibrium_weight}, \"\n",
    "      f\"stability={config.stability_weight}\")"
   ]
  },
  {
   "cell_type": "code",
   "execution_count": null,
   "metadata": {},
   "outputs": [],
   "source": [
    "# Create and run the optimizer\n",
    "optimizer = StackelbergOptimizer(\n",
    "    system_modules=modules,\n",
    "    train_data=train_data,\n",
    "    task_executor=mock_task_executor,\n",
    "    config=config\n",
    ")\n",
    "\n",
    "print(\"Starting optimization...\")\n",
    "print(\"=\" * 50)\n",
    "\n",
    "# Run optimization (using asyncio for the async task executor)\n",
    "best_candidate = await optimizer.optimize_async()\n",
    "\n",
    "print(\"\\nOptimization complete!\")\n",
    "print(f\"Best candidate ID: {best_candidate.candidate_id}\")\n",
    "print(f\"Generation: {best_candidate.generation}\")\n",
    "print(f\"Average score: {best_candidate.get_average_score():.3f}\")"
   ]
  },
  {
   "cell_type": "markdown",
   "metadata": {},
   "source": [
    "## 5. Analyzing Results <a name=\"analyzing-results\"></a>\n",
    "\n",
    "Let's analyze the optimization results and visualize the progress:"
   ]
  },
  {
   "cell_type": "code",
   "execution_count": null,
   "metadata": {},
   "outputs": [],
   "source": [
    "# Display optimized prompts\n",
    "print(\"Optimized Prompts:\")\n",
    "print(\"=\" * 50)\n",
    "\n",
    "for module_name, module in best_candidate.modules.items():\n",
    "    print(f\"\\n{module_name} ({module.module_type.value}):\")\n",
    "    print(\"-\" * 40)\n",
    "    print(module.prompt[:200] + \"...\" if len(module.prompt) > 200 else module.prompt)\n",
    "\n",
    "# Display scores\n",
    "print(\"\\n\\nPerformance Metrics:\")\n",
    "print(\"=\" * 50)\n",
    "print(f\"Average Score: {best_candidate.get_average_score():.3f}\")\n",
    "print(f\"Equilibrium Value: {best_candidate.equilibrium_value:.3f}\")\n",
    "print(f\"Stability Score: {best_candidate.stability_score:.3f}\")\n",
    "\n",
    "# Individual run scores\n",
    "if best_candidate.scores:\n",
    "    print(\"\\nIndividual Run Scores:\")\n",
    "    for run_id, score in best_candidate.scores.items():\n",
    "        print(f\"  Run {run_id}: {score:.3f}\")"
   ]
  },
  {
   "cell_type": "code",
   "execution_count": null,
   "metadata": {},
   "outputs": [],
   "source": [
    "# Create visualization\n",
    "import matplotlib.pyplot as plt\n",
    "\n",
    "visualizer = OptimizationVisualizer()\n",
    "\n",
    "# Plot optimization progress\n",
    "if hasattr(optimizer, 'population_manager') and optimizer.population_manager.generation_stats:\n",
    "    fig = visualizer.plot_optimization_progress(optimizer, save=False)\n",
    "    plt.show()\n",
    "else:\n",
    "    print(\"No generation statistics available for visualization\")"
   ]
  },
  {
   "cell_type": "code",
   "execution_count": null,
   "metadata": {},
   "outputs": [],
   "source": [
    "# Test the optimized system\n",
    "test_text = \"Artificial intelligence is revolutionizing healthcare through early disease detection.\"\n",
    "\n",
    "print(\"Testing optimized system:\")\n",
    "print(f\"Input: {test_text}\")\n",
    "print(\"\\nOutput:\")\n",
    "\n",
    "output, trace = await mock_task_executor(best_candidate.modules, test_text)\n",
    "print(output)\n",
    "\n",
    "print(\"\\nExecution trace:\")\n",
    "for module in trace.execution_order:\n",
    "    score = trace.intermediate_scores.get(module, 0)\n",
    "    print(f\"  {module}: {score:.3f}\")"
   ]
  },
  {
   "cell_type": "markdown",
   "metadata": {},
   "source": [
    "## Summary\n",
    "\n",
    "In this notebook, we've covered:\n",
    "\n",
    "1. **Installation** of the stackelberg-opt library\n",
    "2. **Basic concepts** of Stackelberg game-theoretic optimization\n",
    "3. **Creating modules** with leader-follower-independent structure\n",
    "4. **Running optimization** with custom task executors\n",
    "5. **Analyzing results** including scores and visualizations\n",
    "\n",
    "### Next Steps\n",
    "\n",
    "- Try the advanced examples notebook for more complex systems\n",
    "- Explore different module configurations and dependencies\n",
    "- Implement your own task executor for real LLM integration\n",
    "- Tune optimizer parameters for better performance\n",
    "\n",
    "For more information, see the [documentation](https://github.com/youraanshshah/stackelberg-opt)."
   ]
  }
 ],
 "metadata": {
  "kernelspec": {
   "display_name": "Python 3",
   "language": "python",
   "name": "python3"
  },
  "language_info": {
   "codemirror_mode": {
    "name": "ipython",
    "version": 3
   },
   "file_extension": ".py",
   "mimetype": "text/x-python",
   "name": "python",
   "nbconvert_exporter": "python",
   "pygments_lexer": "ipython3",
   "version": "3.8.0"
  }
 },
 "nbformat": 4,
 "nbformat_minor": 4
}